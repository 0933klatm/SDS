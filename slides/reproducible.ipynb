{
 "cells": [
  {
   "cell_type": "markdown",
   "metadata": {
    "slideshow": {
     "slide_type": "slide"
    }
   },
   "source": [
    "# Reproducible research\n",
    "\n",
    "*Andreas Bjerre-Nielsen*"
   ]
  },
  {
   "cell_type": "markdown",
   "metadata": {
    "slideshow": {
     "slide_type": "slide"
    }
   },
   "source": [
    "# Git: Version control"
   ]
  },
  {
   "cell_type": "markdown",
   "metadata": {
    "slideshow": {
     "slide_type": "slide"
    }
   },
   "source": [
    "## Why version control?\n",
    "\n",
    "> Your closest collaborator is you six months ago, but you don't reply to emails.\n",
    "\n",
    "Detailed log of all changes.\n",
    "\n",
    "Easy to revert back to previous versions (remembers forever).\n",
    "\n",
    "Clear attribution of work (who contributed what).\n",
    "\n",
    "Other differences from DropBox/Google Drive etc.? Some files are shared, some not."
   ]
  },
  {
   "cell_type": "markdown",
   "metadata": {
    "slideshow": {
     "slide_type": "slide"
    }
   },
   "source": [
    "## .. no version control\n",
    "<center><img src='https://raw.githubusercontent.com/abjer/sds/master/slides/figures/nogit.jpg'></center>\n"
   ]
  },
  {
   "cell_type": "markdown",
   "metadata": {
    "slideshow": {
     "slide_type": "slide"
    }
   },
   "source": [
    "## version control\n",
    "\n",
    "<center><img src='https://raw.githubusercontent.com/abjer/sds/master/slides/figures/git.jpg'></center>\n"
   ]
  },
  {
   "cell_type": "markdown",
   "metadata": {
    "slideshow": {
     "slide_type": "slide"
    }
   },
   "source": [
    "# What is version control\n",
    "\n",
    "**what is `git`**?\n",
    "Git is an open source command line program for version control.\n",
    "\n",
    "**what is `github` / `gitlab`**? \n",
    "Companies/web services that hosts Git repositories and enables 'social coding'\n",
    "\n",
    "**What is GitHub for Mac/Windows?**\n",
    "A GUI for Git.\n",
    "\n",
    "Makes it easier to use.\n",
    "\n",
    "Ultimately just does command line Git.\n"
   ]
  },
  {
   "cell_type": "markdown",
   "metadata": {
    "slideshow": {
     "slide_type": "slide"
    }
   },
   "source": [
    "# Getting started\n",
    "\n",
    "\n",
    "Key terms (local):\n",
    "\n",
    "- Repository (repo): a directory where Git looks for changes\n",
    "\n",
    "- Initialize (init): have Git begin watching a directory\n",
    "\n",
    "- add: stage a file so that Git starts watching it\n",
    "\n",
    "- master: the main branch. By convention this should be the most stable version.\n",
    "\n",
    "- push: commit changes to a remotely hosted repository\n",
    "\n",
    "- pull: merge changes from a remotely hosted repository\n"
   ]
  },
  {
   "cell_type": "markdown",
   "metadata": {
    "slideshow": {
     "slide_type": "slide"
    }
   },
   "source": [
    "# Getting started (2)\n",
    "\n",
    "\n",
    "About providers:\n",
    "- `GUI GitHub` push and pull are combined into sync\n",
    "- `gitlab.com` provides free private repositories"
   ]
  },
  {
   "cell_type": "markdown",
   "metadata": {
    "slideshow": {
     "slide_type": "slide"
    }
   },
   "source": [
    "# Example \n",
    "\n",
    "\n",
    "Pushing a change to the SDS repo"
   ]
  },
  {
   "cell_type": "markdown",
   "metadata": {
    "slideshow": {
     "slide_type": "slide"
    }
   },
   "source": [
    "# Example (2)\n",
    "\n",
    "\n",
    "Cloning the SDS repo"
   ]
  },
  {
   "cell_type": "markdown",
   "metadata": {
    "slideshow": {
     "slide_type": "slide"
    }
   },
   "source": [
    "# Markdown"
   ]
  },
  {
   "cell_type": "markdown",
   "metadata": {
    "slideshow": {
     "slide_type": "slide"
    }
   },
   "source": [
    "# Latex code\n",
    "\n",
    "$\\beta\\frac{1}{2}$"
   ]
  },
  {
   "cell_type": "markdown",
   "metadata": {
    "collapsed": true,
    "slideshow": {
     "slide_type": "slide"
    }
   },
   "source": [
    "\n",
    "## Why use Markdown?\n",
    "\n",
    "Easy to learn and use.\n",
    "\n",
    "Focus on __content__, rather than __coding__ and debugging __errors__.\n",
    "\n",
    "It's flexible. Markdown was created to simplify HTML, but with the right tools, your Markdown files can easily be converted to many different formats!\n"
   ]
  },
  {
   "cell_type": "markdown",
   "metadata": {
    "slideshow": {
     "slide_type": "slide"
    }
   },
   "source": [
    "\n",
    "## What is Markdown?\n",
    "\n",
    "Markdown is a particular type of markup language.\n",
    "\n",
    "Markup languages are designed produce documents from plain text.\n",
    "\n",
    "Some of you may be familiar with _LaTeX_. This is another (less human friendly) markup language for creating pdf documents.\n",
    "\n",
    "_LaTeX_ gives you much greater control, but it is restricted to pdf and has a __much__ greater learning curve.\n",
    "\n",
    "markdown was created for the web (you know it if you use Github, Stackoverflow, etc.)\n"
   ]
  },
  {
   "cell_type": "markdown",
   "metadata": {
    "slideshow": {
     "slide_type": "slide"
    }
   },
   "source": [
    "\n",
    "## Example\n",
    "\n",
    "Suppose we want to create a nested list\n",
    "\n",
    "* fruits\n",
    "    - apples\n",
    "        - macintosh\n",
    "    - pears \n",
    "    - peaches\n",
    "* vegetables\n",
    "    - chard"
   ]
  },
  {
   "cell_type": "markdown",
   "metadata": {
    "slideshow": {
     "slide_type": "slide"
    }
   },
   "source": [
    "## Latex\n",
    "\n",
    "```latex\n",
    "\\begin{itemize}      \n",
    "\\item fruits         \n",
    "\\begin{itemize}       \n",
    "\\item apples          \n",
    "  \\begin{itemize}     \n",
    "  \\item macintosh     \n",
    "  \\end{itemize}       \n",
    "\\item pears \n",
    "\\item peaches         \n",
    "\\end{itemize}         \n",
    "\\item vegetables        \n",
    "  \\begin{itemize}       \n",
    "    \\item chard           \n",
    "  \\end{itemize}         \n",
    "\\end{itemize}  \n",
    "```    \n",
    "    "
   ]
  },
  {
   "cell_type": "markdown",
   "metadata": {
    "slideshow": {
     "slide_type": "slide"
    }
   },
   "source": [
    "## HTML\n",
    "\n",
    "```html\n",
    "    <ul>\n",
    "        <li>fruits\n",
    "        <ul>\n",
    "            <li>apples\n",
    "            <ul>\n",
    "                <li>macintosh</li>\n",
    "            </ul></li>\n",
    "            <li>pears</li>\n",
    "            <li>peaches</li>\n",
    "        </ul></li>\n",
    "        <li>vegetables\n",
    "        <ul>\n",
    "            <li>brocolli</li>\n",
    "        </ul></li>\n",
    "    </ul>    \n",
    "```  \n",
    "    "
   ]
  },
  {
   "cell_type": "markdown",
   "metadata": {
    "slideshow": {
     "slide_type": "slide"
    }
   },
   "source": [
    "## Markdown\n",
    "\n",
    "    * fruits\n",
    "        - apples\n",
    "            - macintosh\n",
    "        - pears \n",
    "        - peaches\n",
    "    * vegetables\n",
    "        - chard"
   ]
  },
  {
   "cell_type": "markdown",
   "metadata": {
    "slideshow": {
     "slide_type": "slide"
    }
   },
   "source": [
    "## Jupyter and Markdown\n",
    "\n",
    "We can use markdown within Jupyter. In command mode pressing `m` will convert your cell to a markdown cell, `y` will convert it back to code.\n",
    "\n",
    "**TRY THIS!**"
   ]
  },
  {
   "cell_type": "markdown",
   "metadata": {
    "slideshow": {
     "slide_type": "slide"
    }
   },
   "source": [
    "## Markdown commands\n",
    "\n",
    "- A heading can be created with `#` and for smaller sizes `##`, `###` ..\n",
    "\n",
    "- A link can is `[LINK_TEXT](URL)`\n",
    "    - A link can also be picture no link text is provided\n",
    "\n",
    "[course page](https://google.com)\n",
    "\n",
    "- Italicized is `*[ITAL_TEXT]*`\n",
    "\n",
    "My name is *Andreas*\n",
    "\n",
    "- Bold is `**[BOLD_TEXT]**`\n",
    "\n",
    "My age is ***thirtytwo***\n",
    "\n",
    "See more in [Markdown tutorial](https://blog.ghost.org/markdown/)."
   ]
  },
  {
   "cell_type": "markdown",
   "metadata": {
    "slideshow": {
     "slide_type": "slide"
    }
   },
   "source": [
    "## Getting pdf to work on windows\n",
    "\n",
    "with anaconda prompt/terminal :\n",
    "\n",
    "1) `conda install -c asmeurer pandoc`\n",
    "\n",
    "2) install miktex "
   ]
  },
  {
   "cell_type": "markdown",
   "metadata": {
    "slideshow": {
     "slide_type": "slide"
    }
   },
   "source": [
    "# picture\n",
    "\n",
    "![](https://upload.wikimedia.org/wikipedia/commons/6/63/African_elephant_warning_raised_trunk.jpg)"
   ]
  }
 ],
 "metadata": {
  "celltoolbar": "Slideshow",
  "kernelspec": {
   "display_name": "Python 3",
   "language": "python",
   "name": "python3"
  },
  "language_info": {
   "codemirror_mode": {
    "name": "ipython",
    "version": 3
   },
   "file_extension": ".py",
   "mimetype": "text/x-python",
   "name": "python",
   "nbconvert_exporter": "python",
   "pygments_lexer": "ipython3",
   "version": "3.6.1"
  }
 },
 "nbformat": 4,
 "nbformat_minor": 2
}
