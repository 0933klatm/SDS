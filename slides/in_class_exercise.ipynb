{
 "cells": [
  {
   "cell_type": "markdown",
   "metadata": {},
   "source": [
    "## Exercise - problem: input-output\n",
    "Some data can be 'scraped' as is - they are already structured. \n",
    "\n",
    "Q1) Use Pandas' CSV reader to fetch National Oceanic and Atmospheric Administration(NOAA)'s daily data weather from 1864 for various stations - available [here](https://www1.ncdc.noaa.gov/pub/data/ghcn/daily/by_year/1864.csv). Description can be found [here](https://www1.ncdc.noaa.gov/pub/data/ghcn/daily/by_year/readme.txt).\n",
    "\n",
    "- Note that for compressed files you need to specify the keyword `compression`.\n",
    "- Note also that keyword `header` can be specified as the CSV has no column names."
   ]
  },
  {
   "cell_type": "markdown",
   "metadata": {},
   "source": [
    "## Exercise - problem: format and select\n",
    "Q2) Structure your weather DataFrame by using only the relevant columns, rename them. Make sure observations are correctly formated (how many decimals should we add? one?)."
   ]
  },
  {
   "cell_type": "markdown",
   "metadata": {},
   "source": [
    "Q3) Select data for the first station in the data (`ITE00100550`) and only observations for maximal temperature. Make a copy of the DF."
   ]
  },
  {
   "cell_type": "markdown",
   "metadata": {},
   "source": [
    "## Exercise - problem: index\n",
    "\n",
    "Q4) With your data for the first weather stations - set your datetime variable as temporal index and make a timeseries plot.\n"
   ]
  },
  {
   "cell_type": "markdown",
   "metadata": {},
   "source": [
    "## Exercise - problem: split-apply-combine\n",
    "\n",
    "Q5) Plot the monthly max,min+quartiles temperature for our stations. \n",
    "\n",
    "Hint: the method describe describe computes all these measures."
   ]
  },
  {
   "cell_type": "markdown",
   "metadata": {},
   "source": [
    "## Exercise - problem: data joining\n",
    "Q6) Make a function that downloads and formats the stations data."
   ]
  },
  {
   "cell_type": "markdown",
   "metadata": {},
   "source": [
    "Q7) Using your function that makes a loop that fetch processed data for years 1864-1867. Concatenate this data vertically."
   ]
  },
  {
   "cell_type": "markdown",
   "metadata": {},
   "source": [
    "Q8) Merge station locations onto weather data. Locations can be found at: https://www1.ncdc.noaa.gov/pub/data/ghcn/daily/ghcnd-stations.txt. Note that the location this has fixed width format - does there exist a reader for that?"
   ]
  },
  {
   "cell_type": "markdown",
   "metadata": {},
   "source": [
    "## Exercise - problem: tidy format\n",
    "Q9) Is our weather dataset in tidy format? If not how can we transform it? \n",
    "\n",
    "Hint: **unstack**'ing the observation type may help"
   ]
  },
  {
   "cell_type": "markdown",
   "metadata": {},
   "source": [
    "Q10) With your tidy data set - convert the temperature variables to Fahrenheit. Conversion is F = 32 + 1.8 C where F is Fahrenheit and C is Celsius."
   ]
  }
 ],
 "metadata": {
  "kernelspec": {
   "display_name": "Python 3",
   "language": "python",
   "name": "python3"
  },
  "language_info": {
   "codemirror_mode": {
    "name": "ipython",
    "version": 3
   },
   "file_extension": ".py",
   "mimetype": "text/x-python",
   "name": "python",
   "nbconvert_exporter": "python",
   "pygments_lexer": "ipython3",
   "version": "3.6.1"
  }
 },
 "nbformat": 4,
 "nbformat_minor": 2
}
