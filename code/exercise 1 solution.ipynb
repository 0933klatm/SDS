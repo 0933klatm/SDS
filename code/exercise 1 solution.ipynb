{
 "cells": [
  {
   "cell_type": "markdown",
   "metadata": {},
   "source": [
    "# Preparation"
   ]
  },
  {
   "cell_type": "code",
   "execution_count": 1,
   "metadata": {
    "collapsed": true
   },
   "outputs": [],
   "source": [
    "import matplotlib.pyplot as plt\n",
    "import pandas as pd\n",
    "import seaborn as sns\n",
    "\n",
    "%matplotlib inline"
   ]
  },
  {
   "cell_type": "code",
   "execution_count": 2,
   "metadata": {
    "collapsed": true
   },
   "outputs": [],
   "source": [
    "gh_raw = \"https://raw.githubusercontent.com/\"\n",
    "user = \"abjer/\"\n",
    "repo = \"sds/\"\n",
    "branch = \"gh-pages/\"\n",
    "file = \"data/bechdel.csv\"\n",
    "url = gh_raw + user + repo + branch + file\n",
    "df = pd.read_csv(url)"
   ]
  },
  {
   "cell_type": "markdown",
   "metadata": {},
   "source": [
    "# Questions\n",
    "#### Question 2"
   ]
  },
  {
   "cell_type": "code",
   "execution_count": 11,
   "metadata": {},
   "outputs": [],
   "source": [
    "df['share_male'] = df['count_male'] / df['count']\n",
    "df['share_female'] = 1 - df.share_male\n",
    "\n",
    "       \n",
    "# option 1        \n",
    "df.loc[df.share_male==1,'status'] = 'all_male'\n",
    "df.loc[df.share_male==0,'status'] = 'all_female'\n",
    "df.loc[df.share_male.between(0,1, inclusive=False), 'status'] = 'mixed'\n",
    "\n",
    "# option 2\n",
    "\n",
    "# transforms 0 to 'all_female', 1 'all_male'\n",
    "# fill missing values, i.e. between 0 and 1, with 'mixed'\n",
    "\n",
    "df['status'] = df.share_male\\\n",
    "                    .map({0:'all_female', 1:'all_male'})\\\n",
    "                    .fillna('mixed') \n",
    "        "
   ]
  }
 ],
 "metadata": {
  "kernelspec": {
   "display_name": "Python 3",
   "language": "python",
   "name": "python3"
  },
  "language_info": {
   "codemirror_mode": {
    "name": "ipython",
    "version": 3
   },
   "file_extension": ".py",
   "mimetype": "text/x-python",
   "name": "python",
   "nbconvert_exporter": "python",
   "pygments_lexer": "ipython3",
   "version": "3.6.1"
  }
 },
 "nbformat": 4,
 "nbformat_minor": 2
}
