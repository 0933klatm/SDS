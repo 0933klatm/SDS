{
 "cells": [
  {
   "cell_type": "markdown",
   "metadata": {},
   "source": [
    "# Part 1: causality\n",
    "\n",
    "\n",
    "## Preparation\n",
    "\n",
    "*This is Exercise 2.8.3 in Imai (2016).*\n",
    "\n",
    "One longstanding debate in the study of international relations\n",
    "concerns the question of whether individual political leaders can make a difference.  Some emphasize that leaders with different ideologies and personalities can significantly affect the course of a nation. Others argue that political leaders are severely constrained by historical and institutional forces.  Did individuals like Hitler, Mao, Roosevelt, and Churchill make a big difference?  The difficulty of empirically testing these arguments stems from the fact that the change of leadership is not random and there are many confounding factors to be adjusted for.\n",
    "\n",
    "In this exercise, we consider a *natural experiment* in which the\n",
    "success or failure of assassination attempts is assumed to be\n",
    "essentially random.\n",
    "\n",
    "This exercise is based on:\n",
    "Jones, Benjamin F, and Benjamin A Olken. 2009. “[Hit or Miss?\n",
    " The Effect of Assassinations on Institutions and\n",
    " War.](http://dx.doi.org/10.1257/mac.1.2.55)”\n",
    " *American Economic Journal: Macroeconomics* 1(2): 55–87.\n",
    "\n",
    "You load the data as follows\n",
    "\n",
    "\n",
    "```python\n",
    "gh_raw = \"https://raw.githubusercontent.com/\"\n",
    "user = \"kosukeimai/\"\n",
    "repo = 'qss/'\n",
    "branch = \"master/\"\n",
    "filepath = \"CAUSALITY/leaders.csv\"\n",
    "\n",
    "url = gh_raw + user + repo + branch + filepath\n",
    "df = pd.read_csv(url)```\n",
    "\n",
    "Each observation of the CSV data set\n",
    "`leaders.csv` contains information about an assassination\n",
    "attempt.  The variables are:\n",
    "\n",
    "- `country`: The name of the country\n",
    "- `year`: Year of assassination\n",
    "- `leadername`: Name of leader who was targeted\n",
    "- `age`: Age of the targeted leader\n",
    "- `politybefore`: Average polity score during the 3 year period prior to the attempt\n",
    "- `polityafter`: Average polity score during the 3 year period after the attempt\n",
    "- `civilwarbefore`: 1 if country is in civil war during the 3 year period prior to the attempt, or 0\n",
    "- `civilwarafter`: 1 if country is in civil war during the 3 year period after the attempt, or 0\n",
    "- `interwarbefore`: 1 if country is in international war during the 3 year period prior to the attempt, or 0\n",
    "- `interwarafter`: 1 if country is in international war during the 3 year period after\n",
    "the attempt, or 0\n",
    "- `result`: Result of the assassination attempt, one of 10 categories described\n",
    "below\n",
    "\n",
    "The `polity` variable represents the so-called *polity score*\n",
    "from the Polity Project.  The Polity Project systematically documents\n",
    "and quantifies the regime types of all countries in the world from\n",
    "1800.  The polity score is a 21-point scale ranging from -10\n",
    "(hereditary monarchy) to 10 (consolidated democracy).  \n",
    "\n",
    "The `result` variable is a 10 category factor variable describing\n",
    "the result of each assassination attempt."
   ]
  },
  {
   "cell_type": "code",
   "execution_count": 1,
   "metadata": {
    "collapsed": true
   },
   "outputs": [],
   "source": [
    "import matplotlib.pyplot as plt\n",
    "import numpy as np\n",
    "import pandas as pd\n",
    "import seaborn as sns\n",
    "import statsmodels.formula.api as smf\n",
    "\n",
    "sns.set()\n",
    "\n",
    "%matplotlib inline"
   ]
  },
  {
   "cell_type": "code",
   "execution_count": 2,
   "metadata": {
    "collapsed": true
   },
   "outputs": [],
   "source": [
    "\n",
    "# Read data\n",
    "gh_raw = \"https://raw.githubusercontent.com/\"\n",
    "user = \"kosukeimai/\"\n",
    "repo = 'qss/'\n",
    "branch = \"master/\"\n",
    "file = \"CAUSALITY/leaders.csv\"\n",
    "\n",
    "url = gh_raw + user + repo + branch + file\n",
    "df = pd.read_csv(url)"
   ]
  },
  {
   "cell_type": "markdown",
   "metadata": {},
   "source": [
    "## Question 1\n",
    "\n",
    "- How many assassination attempts are recorded in the data?  "
   ]
  },
  {
   "cell_type": "markdown",
   "metadata": {},
   "source": [
    "- How many countries experience at least one leader assassination attempt?\n",
    "(recall that the `nunique` method for Series returns its number of unique values)"
   ]
  },
  {
   "cell_type": "markdown",
   "metadata": {},
   "source": [
    "- What is the average number of assination attempts (per year) among these countries?"
   ]
  },
  {
   "cell_type": "markdown",
   "metadata": {},
   "source": [
    "## Question 2\n",
    "Create a new binary variable named `success` that is equal\n",
    "to 1 if a leader dies from the attack and to 0 if the leader\n",
    "survives.  Store this new variable as part of the original data\n",
    "frame.  "
   ]
  },
  {
   "cell_type": "markdown",
   "metadata": {},
   "source": [
    "What is the overall success rate of leader assassination?"
   ]
  },
  {
   "cell_type": "markdown",
   "metadata": {},
   "source": [
    "Does the result speak to the validity of the assumption that the\n",
    "success of assassination attempts is randomly determined? Are the outcomes balanced?"
   ]
  },
  {
   "cell_type": "markdown",
   "metadata": {},
   "source": [
    "## Question 3\n",
    "\n",
    "\n",
    "Investigate whether the average polity score over 3 years prior\n",
    "  to an assassination attempt differs on average between successful\n",
    "  and failed attempts.  Also, examine whether there is any difference\n",
    "  in the age of targeted leaders between successful and failed\n",
    "  attempts.  Briefly interpret the results in light of the validity of\n",
    "  the aforementioned assumption."
   ]
  },
  {
   "cell_type": "markdown",
   "metadata": {},
   "source": [
    "\n",
    "## Question 4\n",
    "\n",
    "Repeat the same analysis as in the previous question, but this\n",
    "  time using the country's experience of civil and international war.\n",
    "  Create a new binary variable in the data frame called\n",
    "  `warbefore`.  Code the variable such that it is equal to 1 if\n",
    "  a country is in either civil or international war during the 3 years\n",
    "  prior to an assassination attempt.  Provide a brief interpretation\n",
    "  of the result."
   ]
  },
  {
   "cell_type": "markdown",
   "metadata": {},
   "source": [
    "\n",
    "\n",
    "## Question 5\n",
    "\n",
    "- Does successful leader assassination cause democratization?\n",
    "- Does successful leader assassination lead countries to war?"
   ]
  },
  {
   "cell_type": "markdown",
   "metadata": {},
   "source": [
    "# Part 2: regression in supervised machine learning\n",
    "\n",
    "In this second part of the exercise we will implement a machine learning model for predicting tips. We will use the same data as in Exercise 1.\n",
    "\n",
    "Load the tips data from Seaborn."
   ]
  },
  {
   "cell_type": "markdown",
   "metadata": {},
   "source": [
    "## Question 1\n",
    "\n",
    "Specify y and X for the supervised machine learning problem. As part of this convert categorical/discrete data to dummy variables. Note that Pandas *get_dummies* with the keyword argument `drop_first=True` may be useful.\n"
   ]
  },
  {
   "cell_type": "markdown",
   "metadata": {},
   "source": [
    "## Question 2\n",
    "\n",
    "Using 5-fold cross-validation compare the MAE and RMSE of OLS and ridge regression. For ridge regression use `alpha=100` and `random_state=123`."
   ]
  },
  {
   "cell_type": "markdown",
   "metadata": {},
   "source": [
    "## Question 3\n",
    "\n",
    "Explain in words why the ridge regression performs better than the OLS regression."
   ]
  }
 ],
 "metadata": {
  "kernelspec": {
   "display_name": "Python 3",
   "language": "python",
   "name": "python3"
  },
  "language_info": {
   "codemirror_mode": {
    "name": "ipython",
    "version": 3
   },
   "file_extension": ".py",
   "mimetype": "text/x-python",
   "name": "python",
   "nbconvert_exporter": "python",
   "pygments_lexer": "ipython3",
   "version": "3.6.1"
  }
 },
 "nbformat": 4,
 "nbformat_minor": 2
}
