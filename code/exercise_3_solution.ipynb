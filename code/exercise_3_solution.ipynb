{
 "cells": [
  {
   "cell_type": "markdown",
   "metadata": {},
   "source": [
    "# Part 1: causality\n",
    "\n",
    "\n",
    "## Preparation\n",
    "\n",
    "*This is Exercise 2.8.3 in Imai (2016).*\n",
    "\n",
    "One longstanding debate in the study of international relations\n",
    "concerns the question of whether individual political leaders can make a difference.  Some emphasize that leaders with different ideologies and personalities can significantly affect the course of a nation. Others argue that political leaders are severely constrained by historical and institutional forces.  Did individuals like Hitler, Mao, Roosevelt, and Churchill make a big difference?  The difficulty of empirically testing these arguments stems from the fact that the change of leadership is not random and there are many confounding factors to be adjusted for.\n",
    "\n",
    "In this exercise, we consider a *natural experiment* in which the\n",
    "success or failure of assassination attempts is assumed to be\n",
    "essentially random.\n",
    "\n",
    "This exercise is based on:\n",
    "Jones, Benjamin F, and Benjamin A Olken. 2009. “[Hit or Miss?\n",
    " The Effect of Assassinations on Institutions and\n",
    " War.](http://dx.doi.org/10.1257/mac.1.2.55)”\n",
    " *American Economic Journal: Macroeconomics* 1(2): 55–87.\n",
    "\n",
    "You load the data as follows\n",
    "\n",
    "\n",
    "```python\n",
    "gh_raw = \"https://raw.githubusercontent.com/\"\n",
    "user = \"kosukeimai/\"\n",
    "repo = 'qss/'\n",
    "branch = \"master/\"\n",
    "filepath = \"CAUSALITY/leaders.csv\"\n",
    "\n",
    "url = gh_raw + user + repo + branch + filepath\n",
    "df = pd.read_csv(url)```\n",
    "\n",
    "Each observation of the CSV data set\n",
    "`leaders.csv` contains information about an assassination\n",
    "attempt.  The variables are:\n",
    "\n",
    "- `country`: The name of the country\n",
    "- `year`: Year of assassination\n",
    "- `leadername`: Name of leader who was targeted\n",
    "- `age`: Age of the targeted leader\n",
    "- `politybefore`: Average polity score during the 3 year period prior to the attempt\n",
    "- `polityafter`: Average polity score during the 3 year period after the attempt\n",
    "- `civilwarbefore`: 1 if country is in civil war during the 3 year period prior to the attempt, or 0\n",
    "- `civilwarafter`: 1 if country is in civil war during the 3 year period after the attempt, or 0\n",
    "- `interwarbefore`: 1 if country is in international war during the 3 year period prior to the attempt, or 0\n",
    "- `interwarafter`: 1 if country is in international war during the 3 year period after\n",
    "the attempt, or 0\n",
    "- `result`: Result of the assassination attempt, one of 10 categories described\n",
    "below\n",
    "\n",
    "The `polity` variable represents the so-called *polity score*\n",
    "from the Polity Project.  The Polity Project systematically documents\n",
    "and quantifies the regime types of all countries in the world from\n",
    "1800.  The polity score is a 21-point scale ranging from -10\n",
    "(hereditary monarchy) to 10 (consolidated democracy).  \n",
    "\n",
    "The `result` variable is a 10 category factor variable describing\n",
    "the result of each assassination attempt."
   ]
  },
  {
   "cell_type": "code",
   "execution_count": 1,
   "metadata": {
    "collapsed": true
   },
   "outputs": [],
   "source": [
    "import matplotlib.pyplot as plt\n",
    "import numpy as np\n",
    "import pandas as pd\n",
    "import seaborn as sns\n",
    "import statsmodels.formula.api as smf\n",
    "\n",
    "sns.set()\n",
    "\n",
    "%matplotlib inline"
   ]
  },
  {
   "cell_type": "code",
   "execution_count": 2,
   "metadata": {
    "collapsed": true
   },
   "outputs": [],
   "source": [
    "\n",
    "# Read data\n",
    "gh_raw = \"https://raw.githubusercontent.com/\"\n",
    "user = \"kosukeimai/\"\n",
    "repo = 'qss/'\n",
    "branch = \"master/\"\n",
    "file = \"CAUSALITY/leaders.csv\"\n",
    "\n",
    "url = gh_raw + user + repo + branch + file\n",
    "df = pd.read_csv(url)"
   ]
  },
  {
   "cell_type": "markdown",
   "metadata": {},
   "source": [
    "## Question 1\n",
    "\n",
    "- How many assassination attempts are recorded in the data?  "
   ]
  },
  {
   "cell_type": "code",
   "execution_count": 3,
   "metadata": {},
   "outputs": [
    {
     "data": {
      "text/plain": [
       "250"
      ]
     },
     "execution_count": 3,
     "metadata": {},
     "output_type": "execute_result"
    }
   ],
   "source": [
    "df.shape[0]"
   ]
  },
  {
   "cell_type": "markdown",
   "metadata": {},
   "source": [
    "- How many countries experience at least one leader assassination attempt?\n",
    "(recall that the `nunique` method for Series returns its number of unique values)"
   ]
  },
  {
   "cell_type": "code",
   "execution_count": 4,
   "metadata": {},
   "outputs": [
    {
     "data": {
      "text/plain": [
       "88"
      ]
     },
     "execution_count": 4,
     "metadata": {},
     "output_type": "execute_result"
    }
   ],
   "source": [
    "df['country'].nunique()"
   ]
  },
  {
   "cell_type": "markdown",
   "metadata": {},
   "source": [
    "- What is the average number of assination attempts (per year) among these countries?"
   ]
  },
  {
   "cell_type": "code",
   "execution_count": 5,
   "metadata": {},
   "outputs": [
    {
     "data": {
      "text/plain": [
       "'2.03'"
      ]
     },
     "execution_count": 5,
     "metadata": {},
     "output_type": "execute_result"
    }
   ],
   "source": [
    "'%.2f' % (df.shape[0] / (df.year.max()-df.year.min())) # print it rounded to two digits"
   ]
  },
  {
   "cell_type": "markdown",
   "metadata": {},
   "source": [
    "## Question 2\n",
    "Create a new binary variable named `success` that is equal\n",
    "to 1 if a leader dies from the attack and to 0 if the leader\n",
    "survives.  Store this new variable as part of the original data\n",
    "frame.  "
   ]
  },
  {
   "cell_type": "code",
   "execution_count": 6,
   "metadata": {
    "collapsed": true
   },
   "outputs": [],
   "source": [
    "df['success'] = df.result.str.contains('dies').astype(int)"
   ]
  },
  {
   "cell_type": "markdown",
   "metadata": {},
   "source": [
    "What is the overall success rate of leader assassination?"
   ]
  },
  {
   "cell_type": "code",
   "execution_count": 7,
   "metadata": {},
   "outputs": [
    {
     "data": {
      "text/plain": [
       "0.216"
      ]
     },
     "execution_count": 7,
     "metadata": {},
     "output_type": "execute_result"
    }
   ],
   "source": [
    "df['success'].mean()"
   ]
  },
  {
   "cell_type": "markdown",
   "metadata": {},
   "source": [
    "Does the result speak to the validity of the assumption that the\n",
    "success of assassination attempts is randomly determined? Are the outcomes balanced?"
   ]
  },
  {
   "cell_type": "markdown",
   "metadata": {},
   "source": [
    "## Question 3\n",
    "\n",
    "\n",
    "Investigate whether the average polity score over 3 years prior\n",
    "  to an assassination attempt differs on average between successful\n",
    "  and failed attempts.  Also, examine whether there is any difference\n",
    "  in the age of targeted leaders between successful and failed\n",
    "  attempts.  Briefly interpret the results in light of the validity of\n",
    "  the aforementioned assumption."
   ]
  },
  {
   "cell_type": "markdown",
   "metadata": {},
   "source": [
    "*Answer: it seems to be that politybefore and age (especially) are correlated with \"success\". See figures and tables below.*"
   ]
  },
  {
   "cell_type": "code",
   "execution_count": 8,
   "metadata": {},
   "outputs": [
    {
     "data": {
      "image/png": "[encoded data removed]",
      "text/plain": [
       "<matplotlib.figure.Figure at 0x254848f6358>"
      ]
     },
     "metadata": {},
     "output_type": "display_data"
    }
   ],
   "source": [
    "f,ax = plt.subplots(2,2,figsize=(12,10))\n",
    "for index, var in enumerate(['politybefore', 'age']):\n",
    "    sns.violinplot(x='success', y=var, data=df, ax=ax[index][0])\n",
    "    sns.barplot(x='success', y=var, data=df, ax=ax[index][1])\n"
   ]
  },
  {
   "cell_type": "code",
   "execution_count": 9,
   "metadata": {},
   "outputs": [
    {
     "data": {
      "text/html": [
       "<div>\n",
       "<style>\n",
       "    .dataframe thead tr:only-child th {\n",
       "        text-align: right;\n",
       "    }\n",
       "\n",
       "    .dataframe thead th {\n",
       "        text-align: left;\n",
       "    }\n",
       "\n",
       "    .dataframe tbody tr th {\n",
       "        vertical-align: top;\n",
       "    }\n",
       "</style>\n",
       "<table border=\"1\" class=\"dataframe\">\n",
       "  <thead>\n",
       "    <tr style=\"text-align: right;\">\n",
       "      <th></th>\n",
       "      <th>count</th>\n",
       "      <th>mean</th>\n",
       "      <th>std</th>\n",
       "      <th>min</th>\n",
       "      <th>25%</th>\n",
       "      <th>50%</th>\n",
       "      <th>75%</th>\n",
       "      <th>max</th>\n",
       "    </tr>\n",
       "    <tr>\n",
       "      <th>success</th>\n",
       "      <th></th>\n",
       "      <th></th>\n",
       "      <th></th>\n",
       "      <th></th>\n",
       "      <th></th>\n",
       "      <th></th>\n",
       "      <th></th>\n",
       "      <th></th>\n",
       "    </tr>\n",
       "  </thead>\n",
       "  <tbody>\n",
       "    <tr>\n",
       "      <th>0</th>\n",
       "      <td>196.0</td>\n",
       "      <td>-1.743197</td>\n",
       "      <td>6.417421</td>\n",
       "      <td>-10.0</td>\n",
       "      <td>-7.0</td>\n",
       "      <td>-3.0</td>\n",
       "      <td>3.0</td>\n",
       "      <td>10.0</td>\n",
       "    </tr>\n",
       "    <tr>\n",
       "      <th>1</th>\n",
       "      <td>54.0</td>\n",
       "      <td>-0.703704</td>\n",
       "      <td>6.541808</td>\n",
       "      <td>-10.0</td>\n",
       "      <td>-6.0</td>\n",
       "      <td>-3.0</td>\n",
       "      <td>5.5</td>\n",
       "      <td>10.0</td>\n",
       "    </tr>\n",
       "  </tbody>\n",
       "</table>\n",
       "</div>"
      ],
      "text/plain": [
       "         count      mean       std   min  25%  50%  75%   max\n",
       "success                                                      \n",
       "0        196.0 -1.743197  6.417421 -10.0 -7.0 -3.0  3.0  10.0\n",
       "1         54.0 -0.703704  6.541808 -10.0 -6.0 -3.0  5.5  10.0"
      ]
     },
     "execution_count": 9,
     "metadata": {},
     "output_type": "execute_result"
    }
   ],
   "source": [
    "gb_success = df.groupby('success')\n",
    "\n",
    "gb_success.politybefore.describe()"
   ]
  },
  {
   "cell_type": "code",
   "execution_count": 10,
   "metadata": {},
   "outputs": [
    {
     "data": {
      "text/html": [
       "<div>\n",
       "<style>\n",
       "    .dataframe thead tr:only-child th {\n",
       "        text-align: right;\n",
       "    }\n",
       "\n",
       "    .dataframe thead th {\n",
       "        text-align: left;\n",
       "    }\n",
       "\n",
       "    .dataframe tbody tr th {\n",
       "        vertical-align: top;\n",
       "    }\n",
       "</style>\n",
       "<table border=\"1\" class=\"dataframe\">\n",
       "  <thead>\n",
       "    <tr style=\"text-align: right;\">\n",
       "      <th></th>\n",
       "      <th>count</th>\n",
       "      <th>mean</th>\n",
       "      <th>std</th>\n",
       "      <th>min</th>\n",
       "      <th>25%</th>\n",
       "      <th>50%</th>\n",
       "      <th>75%</th>\n",
       "      <th>max</th>\n",
       "    </tr>\n",
       "    <tr>\n",
       "      <th>success</th>\n",
       "      <th></th>\n",
       "      <th></th>\n",
       "      <th></th>\n",
       "      <th></th>\n",
       "      <th></th>\n",
       "      <th></th>\n",
       "      <th></th>\n",
       "      <th></th>\n",
       "    </tr>\n",
       "  </thead>\n",
       "  <tbody>\n",
       "    <tr>\n",
       "      <th>0</th>\n",
       "      <td>196.0</td>\n",
       "      <td>52.714286</td>\n",
       "      <td>12.348778</td>\n",
       "      <td>18.0</td>\n",
       "      <td>44.00</td>\n",
       "      <td>51.5</td>\n",
       "      <td>61.00</td>\n",
       "      <td>81.0</td>\n",
       "    </tr>\n",
       "    <tr>\n",
       "      <th>1</th>\n",
       "      <td>54.0</td>\n",
       "      <td>56.462963</td>\n",
       "      <td>10.428034</td>\n",
       "      <td>34.0</td>\n",
       "      <td>47.25</td>\n",
       "      <td>58.0</td>\n",
       "      <td>64.75</td>\n",
       "      <td>77.0</td>\n",
       "    </tr>\n",
       "  </tbody>\n",
       "</table>\n",
       "</div>"
      ],
      "text/plain": [
       "         count       mean        std   min    25%   50%    75%   max\n",
       "success                                                             \n",
       "0        196.0  52.714286  12.348778  18.0  44.00  51.5  61.00  81.0\n",
       "1         54.0  56.462963  10.428034  34.0  47.25  58.0  64.75  77.0"
      ]
     },
     "execution_count": 10,
     "metadata": {},
     "output_type": "execute_result"
    }
   ],
   "source": [
    "gb_success.age.describe()"
   ]
  },
  {
   "cell_type": "markdown",
   "metadata": {},
   "source": [
    "\n",
    "## Question 4\n",
    "\n",
    "Repeat the same analysis as in the previous question, but this\n",
    "  time using the country's experience of civil and international war.\n",
    "  Create a new binary variable in the data frame called\n",
    "  `warbefore`.  Code the variable such that it is equal to 1 if\n",
    "  a country is in either civil or international war during the 3 years\n",
    "  prior to an assassination attempt.  Provide a brief interpretation\n",
    "  of the result."
   ]
  },
  {
   "cell_type": "markdown",
   "metadata": {},
   "source": [
    "*Answer: We see that war after seems to be affected by success of the attack - warbefore does not seem to alter the probability of success.*"
   ]
  },
  {
   "cell_type": "code",
   "execution_count": 11,
   "metadata": {
    "collapsed": true
   },
   "outputs": [],
   "source": [
    "df['warbefore'] = df[['interwarbefore','civilwarbefore']].max(1)\n",
    "df['warafter'] = df[['interwarafter','civilwarafter']].max(1)"
   ]
  },
  {
   "cell_type": "code",
   "execution_count": 12,
   "metadata": {},
   "outputs": [
    {
     "data": {
      "image/png": "[encoded data removed]",
      "text/plain": [
       "<matplotlib.figure.Figure at 0x25485153ac8>"
      ]
     },
     "metadata": {},
     "output_type": "display_data"
    }
   ],
   "source": [
    "f,ax = plt.subplots(1,2,figsize=(12,5))\n",
    "for index, var in enumerate(['warbefore', 'warafter']):    \n",
    "    sns.barplot(x='success', y=var, data=df, ax=ax[index])"
   ]
  },
  {
   "cell_type": "markdown",
   "metadata": {},
   "source": [
    "\n",
    "\n",
    "## Question 5\n",
    "\n",
    "- Does successful leader assassination cause democratization?\n",
    "- Does successful leader assassination lead countries to war?"
   ]
  },
  {
   "cell_type": "code",
   "execution_count": 13,
   "metadata": {},
   "outputs": [
    {
     "name": "stdout",
     "output_type": "stream",
     "text": [
      "war -0.072\n",
      "polity 0.093\n"
     ]
    }
   ],
   "source": [
    "for var_type in ['war', 'polity']:\n",
    "    def diff_mean(group):\n",
    "        return (group[var_type+'after']-group[var_type+'before']).mean()\n",
    "    print(var_type, '%.3f' % df.groupby('success').apply(diff_mean).diff().iloc[1])"
   ]
  },
  {
   "cell_type": "markdown",
   "metadata": {},
   "source": [
    "### Plots of democratization"
   ]
  },
  {
   "cell_type": "code",
   "execution_count": 14,
   "metadata": {},
   "outputs": [
    {
     "data": {
      "text/plain": [
       "<matplotlib.axes._subplots.AxesSubplot at 0x254850d26a0>"
      ]
     },
     "execution_count": 14,
     "metadata": {},
     "output_type": "execute_result"
    },
    {
     "data": {
      "image/png": "[encoded data removed]",
      "text/plain": [
       "<matplotlib.figure.Figure at 0x25484f85908>"
      ]
     },
     "metadata": {},
     "output_type": "display_data"
    }
   ],
   "source": [
    "df['politydiff'] = df.polityafter - df.politybefore\n",
    "df['politybefore_cat'] = pd.cut(df.politybefore, [-11,-3,3,11], labels=['low', 'medium', 'high'])\n",
    "\n",
    "sns.barplot(x='politybefore_cat',hue='success',y='politydiff',data=df)"
   ]
  },
  {
   "cell_type": "code",
   "execution_count": 15,
   "metadata": {},
   "outputs": [
    {
     "data": {
      "text/plain": [
       "<seaborn.axisgrid.FacetGrid at 0x25484f72668>"
      ]
     },
     "execution_count": 15,
     "metadata": {},
     "output_type": "execute_result"
    },
    {
     "data": {
      "image/png": "[encoded data removed]",
      "text/plain": [
       "<matplotlib.figure.Figure at 0x25486386390>"
      ]
     },
     "metadata": {},
     "output_type": "display_data"
    }
   ],
   "source": [
    "sns.lmplot(x='politybefore', y='polityafter', hue='success', data=df, x_jitter=.5, y_jitter=.5)"
   ]
  },
  {
   "cell_type": "markdown",
   "metadata": {},
   "source": [
    "### Plots of war reduction"
   ]
  },
  {
   "cell_type": "code",
   "execution_count": 16,
   "metadata": {},
   "outputs": [
    {
     "data": {
      "text/plain": [
       "<matplotlib.axes._subplots.AxesSubplot at 0x254850c3a20>"
      ]
     },
     "execution_count": 16,
     "metadata": {},
     "output_type": "execute_result"
    },
    {
     "data": {
      "image/png": "[encoded data removed]",
      "text/plain": [
       "<matplotlib.figure.Figure at 0x25484f790b8>"
      ]
     },
     "metadata": {},
     "output_type": "display_data"
    }
   ],
   "source": [
    "df['wardiff'] = df.warafter - df.warbefore\n",
    "sns.barplot(x='warbefore', y='wardiff', hue='success', data=df)"
   ]
  },
  {
   "cell_type": "markdown",
   "metadata": {},
   "source": [
    "# Part 2: regression in supervised machine learning\n",
    "\n",
    "In this second part of the exercise we will implement a machine learning model for predicting tips. We will use the same data as in Exercise 1.\n",
    "\n",
    "Load the tips data from Seaborn."
   ]
  },
  {
   "cell_type": "code",
   "execution_count": 17,
   "metadata": {
    "collapsed": true
   },
   "outputs": [],
   "source": [
    "tips = sns.load_dataset('tips')"
   ]
  },
  {
   "cell_type": "markdown",
   "metadata": {},
   "source": [
    "## Question 1\n",
    "\n",
    "Specify y and X for the supervised machine learning problem. As part of this convert categorical/discrete data to dummy variables. Note that Pandas *get_dummies* with the keyword argument `drop_first=True` may be useful.\n"
   ]
  },
  {
   "cell_type": "code",
   "execution_count": 18,
   "metadata": {
    "collapsed": true
   },
   "outputs": [],
   "source": [
    "X = pd.get_dummies(tips.drop('tip',1), drop_first=True).values\n",
    "y = tips.tip.values"
   ]
  },
  {
   "cell_type": "markdown",
   "metadata": {},
   "source": [
    "## Question 2\n",
    "\n",
    "Using 5-fold cross-validation compare the MAE and RMSE of OLS and ridge regression. For ridge regression use `alpha=100` and `random_state=123`."
   ]
  },
  {
   "cell_type": "code",
   "execution_count": 19,
   "metadata": {
    "collapsed": true,
    "scrolled": true
   },
   "outputs": [],
   "source": [
    "from sklearn.model_selection import KFold\n",
    "from sklearn.metrics import mean_absolute_error as mae, mean_squared_error as mse\n",
    "from sklearn.linear_model import Ridge, LinearRegression\n",
    "\n",
    "kf = KFold(n_splits=5, random_state=123)\n",
    "\n",
    "measures = {'Ridge':[], 'OLS':[]}\n",
    "\n",
    "models = [('Ridge', Ridge(alpha=100)), ('OLS', LinearRegression())]\n",
    "\n",
    "# cross validation loop\n",
    "for train_index, test_index in kf.split(X):\n",
    "    X_train, X_test = X[train_index], X[test_index]\n",
    "    y_train, y_test = y[train_index], y[test_index]    \n",
    "    \n",
    "    for model_name,model in models:\n",
    "    \n",
    "        y_pred = model.fit(X_train, y_train).predict(X_test)         \n",
    "\n",
    "        measures[model_name].append({'mae': mae(y_test, y_pred), \n",
    "                                     'rmse': np.sqrt(mse(y_test, y_pred))    })"
   ]
  },
  {
   "cell_type": "code",
   "execution_count": 20,
   "metadata": {},
   "outputs": [
    {
     "data": {
      "text/html": [
       "<div>\n",
       "<style>\n",
       "    .dataframe thead tr:only-child th {\n",
       "        text-align: right;\n",
       "    }\n",
       "\n",
       "    .dataframe thead th {\n",
       "        text-align: left;\n",
       "    }\n",
       "\n",
       "    .dataframe tbody tr th {\n",
       "        vertical-align: top;\n",
       "    }\n",
       "</style>\n",
       "<table border=\"1\" class=\"dataframe\">\n",
       "  <thead>\n",
       "    <tr style=\"text-align: right;\">\n",
       "      <th></th>\n",
       "      <th>Ridge</th>\n",
       "      <th>OLS</th>\n",
       "    </tr>\n",
       "  </thead>\n",
       "  <tbody>\n",
       "    <tr>\n",
       "      <th>mae</th>\n",
       "      <td>0.76</td>\n",
       "      <td>0.79</td>\n",
       "    </tr>\n",
       "    <tr>\n",
       "      <th>rmse</th>\n",
       "      <td>1.01</td>\n",
       "      <td>1.04</td>\n",
       "    </tr>\n",
       "  </tbody>\n",
       "</table>\n",
       "</div>"
      ],
      "text/plain": [
       "      Ridge   OLS\n",
       "mae    0.76  0.79\n",
       "rmse   1.01  1.04"
      ]
     },
     "execution_count": 20,
     "metadata": {},
     "output_type": "execute_result"
    }
   ],
   "source": [
    "def mean_est(m):\n",
    "    return pd.DataFrame(measures[m]).mean().rename(m)\n",
    "\n",
    "pd.concat([mean_est(m) for m in ['Ridge','OLS']], axis=1).round(2)"
   ]
  },
  {
   "cell_type": "markdown",
   "metadata": {},
   "source": [
    "## Question 3\n",
    "\n",
    "Explain in words why the ridge regression performs better than the OLS regression."
   ]
  },
  {
   "cell_type": "markdown",
   "metadata": {},
   "source": [
    "*Answer: The ridge regression solves the part of 'overfitting' where we have excessively large estimates.*"
   ]
  }
 ],
 "metadata": {
  "kernelspec": {
   "display_name": "Python 3",
   "language": "python",
   "name": "python3"
  },
  "language_info": {
   "codemirror_mode": {
    "name": "ipython",
    "version": 3
   },
   "file_extension": ".py",
   "mimetype": "text/x-python",
   "name": "python",
   "nbconvert_exporter": "python",
   "pygments_lexer": "ipython3",
   "version": "3.6.1"
  }
 },
 "nbformat": 4,
 "nbformat_minor": 2
}
